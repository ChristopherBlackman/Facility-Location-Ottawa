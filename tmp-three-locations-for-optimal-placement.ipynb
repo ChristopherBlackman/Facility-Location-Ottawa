{
 "cells": [
  {
   "cell_type": "code",
   "execution_count": 114,
   "metadata": {},
   "outputs": [],
   "source": [
    "from main import VoronoiFacilitySelection \n",
    "from main import dot_extract\n",
    "import numpy as np\n",
    "from scipy.spatial import Voronoi, voronoi_plot_2d\n",
    "from sklearn.neighbors import NearestNeighbors\n",
    "\n",
    "import matplotlib.pyplot as plt\n",
    "from pprint import pprint\n"
   ]
  },
  {
   "cell_type": "code",
   "execution_count": 2,
   "metadata": {},
   "outputs": [],
   "source": [
    "v, e = dot_extract()"
   ]
  },
  {
   "cell_type": "code",
   "execution_count": 295,
   "metadata": {},
   "outputs": [],
   "source": [
    "V = {\"1\":[0,0],\"2\":[2,0],\"3\":[0,2],\"4\":[2,2],\"5\":[1,1]}\n",
    "V = {\"1\":np.random.rand(2)*100,\"2\":np.random.rand(2)*100,\"3\":np.random.rand(2)*100,\"4\":np.random.rand(2)*100,\"5\":np.random.rand(2)*100}\n",
    "model = VoronoiFacilitySelection(random_state=11,n_cells=4)\n",
    "vor = Voronoi(list(V.values()))"
   ]
  },
  {
   "cell_type": "code",
   "execution_count": 296,
   "metadata": {
    "scrolled": false
   },
   "outputs": [
    {
     "data": {
      "image/png": "[encoded data removed]",
      "text/plain": [
       "<Figure size 432x288 with 1 Axes>"
      ]
     },
     "metadata": {
      "needs_background": "light"
     },
     "output_type": "display_data"
    }
   ],
   "source": [
    "fig = voronoi_plot_2d(vor)"
   ]
  },
  {
   "cell_type": "code",
   "execution_count": 297,
   "metadata": {},
   "outputs": [
    {
     "data": {
      "text/plain": [
       "array([[44.86566891, 42.46188807],\n",
       "       [57.29980461, 38.5693229 ],\n",
       "       [55.1013318 , 38.41342763]])"
      ]
     },
     "execution_count": 297,
     "metadata": {},
     "output_type": "execute_result"
    }
   ],
   "source": [
    "vor.vertices"
   ]
  },
  {
   "cell_type": "code",
   "execution_count": 298,
   "metadata": {},
   "outputs": [
    {
     "data": {
      "text/plain": [
       "[[2, 0, -1, 1], [2, -1, 0], [-1, 0], [], [1, -1], [2, -1, 1]]"
      ]
     },
     "execution_count": 298,
     "metadata": {},
     "output_type": "execute_result"
    }
   ],
   "source": [
    "vor.regions"
   ]
  },
  {
   "cell_type": "code",
   "execution_count": 299,
   "metadata": {},
   "outputs": [
    {
     "data": {
      "text/plain": [
       "array([1, 0, 5, 4, 2])"
      ]
     },
     "execution_count": 299,
     "metadata": {},
     "output_type": "execute_result"
    }
   ],
   "source": [
    "vor.point_region"
   ]
  },
  {
   "cell_type": "code",
   "execution_count": 300,
   "metadata": {},
   "outputs": [
    {
     "data": {
      "text/plain": [
       "array([[45.86885089,  4.87601673],\n",
       "       [71.30763421, 69.19251786],\n",
       "       [75.48876313, 10.22922501],\n",
       "       [86.30269819, 55.68164372],\n",
       "       [15.77130201, 66.27830914]])"
      ]
     },
     "execution_count": 300,
     "metadata": {},
     "output_type": "execute_result"
    }
   ],
   "source": [
    "vor.points"
   ]
  },
  {
   "cell_type": "code",
   "execution_count": 301,
   "metadata": {},
   "outputs": [
    {
     "data": {
      "text/plain": [
       "array([[1, 0],\n",
       "       [1, 4],\n",
       "       [1, 3],\n",
       "       [1, 2],\n",
       "       [0, 4],\n",
       "       [0, 2],\n",
       "       [3, 2]], dtype=int32)"
      ]
     },
     "execution_count": 301,
     "metadata": {},
     "output_type": "execute_result"
    }
   ],
   "source": [
    "vor.ridge_points"
   ]
  },
  {
   "cell_type": "code",
   "execution_count": 302,
   "metadata": {},
   "outputs": [
    {
     "data": {
      "text/plain": [
       "[[0, 2], [-1, 0], [-1, 1], [1, 2], [-1, 0], [-1, 2], [-1, 1]]"
      ]
     },
     "execution_count": 302,
     "metadata": {},
     "output_type": "execute_result"
    }
   ],
   "source": [
    "vor.ridge_vertices"
   ]
  },
  {
   "cell_type": "code",
   "execution_count": 303,
   "metadata": {},
   "outputs": [
    {
     "data": {
      "text/plain": [
       "{(1, 0): [0, 2],\n",
       " (1, 4): [-1, 0],\n",
       " (1, 3): [-1, 1],\n",
       " (1, 2): [1, 2],\n",
       " (0, 4): [-1, 0],\n",
       " (0, 2): [-1, 2],\n",
       " (3, 2): [-1, 1]}"
      ]
     },
     "execution_count": 303,
     "metadata": {},
     "output_type": "execute_result"
    }
   ],
   "source": [
    "vor.ridge_dict"
   ]
  },
  {
   "cell_type": "code",
   "execution_count": 304,
   "metadata": {},
   "outputs": [
    {
     "data": {
      "text/plain": [
       "array([1, 0, 5, 4, 2])"
      ]
     },
     "execution_count": 304,
     "metadata": {},
     "output_type": "execute_result"
    }
   ],
   "source": [
    "vor.point_region\n"
   ]
  },
  {
   "cell_type": "code",
   "execution_count": 305,
   "metadata": {},
   "outputs": [
    {
     "data": {
      "text/plain": [
       "{'1': array([45.86885089,  4.87601673]),\n",
       " '2': array([71.30763421, 69.19251786]),\n",
       " '3': array([75.48876313, 10.22922501]),\n",
       " '4': array([86.30269819, 55.68164372]),\n",
       " '5': array([15.77130201, 66.27830914])}"
      ]
     },
     "execution_count": 305,
     "metadata": {},
     "output_type": "execute_result"
    }
   ],
   "source": [
    "V"
   ]
  },
  {
   "cell_type": "code",
   "execution_count": 306,
   "metadata": {},
   "outputs": [
    {
     "data": {
      "text/plain": [
       "[array([45.86885089,  4.87601673]),\n",
       " array([71.30763421, 69.19251786]),\n",
       " array([75.48876313, 10.22922501]),\n",
       " array([86.30269819, 55.68164372]),\n",
       " array([15.77130201, 66.27830914])]"
      ]
     },
     "execution_count": 306,
     "metadata": {},
     "output_type": "execute_result"
    }
   ],
   "source": [
    "v=list(V.values())\n",
    "v"
   ]
  },
  {
   "cell_type": "code",
   "execution_count": 337,
   "metadata": {},
   "outputs": [],
   "source": [
    "# this section will be pre-processing\n",
    "min_x = min(np.array(list(V.values()))[:,0])\n",
    "min_y = min(np.array(list(V.values()))[:,1])\n",
    "max_x = max(np.array(list(V.values()))[:,0])\n",
    "max_y = max(np.array(list(V.values()))[:,1])\n",
    "\n",
    "min_bound = [min_x,min_y]\n",
    "max_bound = [max_x,max_y]\n",
    "\n",
    "# I need to find the minimum, and maximum in the point set\n",
    "CH_points = np.array([min_bound,[max_bound[0],min_bound[1]],max_bound,[min_bound[0],max_bound[1]]])\n",
    "\n",
    "CH_segments = np.array([[CH_points[i-1],CH_points[i]] for i in range(len(CH_points))])\n"
   ]
  },
  {
   "cell_type": "code",
   "execution_count": 338,
   "metadata": {},
   "outputs": [
    {
     "name": "stdout",
     "output_type": "stream",
     "text": [
      "[-1.00318198 37.58587133]\n",
      "[-26.4419653 -26.7306298]\n",
      "[-20.38743133  28.18420262]\n",
      "[-29.00289358 -17.11232083]\n",
      "[ 29.0943669  -23.81642107]\n"
     ]
    }
   ],
   "source": [
    "# compute distances of centers, with voronoi verticies\n",
    "for i, point_region in zip(range(len(vor.points)),vor.point_region):\n",
    "    vor_v_i = vor.regions[point_region]\n",
    "    points = np.array([vor.vertices[p] for p in vor_v_i if p >= 0])\n",
    "    center = vor.points[i]\n",
    "    delta = points - center\n",
    "    delta_max = delta[np.argmax(np.apply_along_axis(np.linalg.norm,1,delta))]\n",
    "    \n",
    "    # check if delta max is bigger than any other distances found thus far for point at index i\n",
    "    print(delta_max)\n",
    "\n",
    "    "
   ]
  },
  {
   "cell_type": "code",
   "execution_count": 339,
   "metadata": {},
   "outputs": [
    {
     "name": "stdout",
     "output_type": "stream",
     "text": [
      "[[-30.09754888   0.        ]]\n",
      "[[10.81393506 -5.35320828]]\n",
      "[[ 0.         13.51087414]]\n",
      "[[0.         2.91420872]]\n"
     ]
    }
   ],
   "source": [
    "# compute distance of centers, with C.H, points\n",
    "\n",
    "# this section will inside the loop\n",
    "neigh = NearestNeighbors(n_neighbors=1, radius=0.0000000000001) \n",
    "neigh.fit(vor.points)\n",
    "\n",
    "Y = neigh.kneighbors(CH_points,1,return_distance=False) \n",
    "\n",
    "for center_i,CH_p in zip(Y,CH_points):\n",
    "    center = vor.points[center_i]\n",
    "    delta = CH_p-center\n",
    "    \n",
    "    #check if delta is greater than any other delta of center_i\n",
    "    print(delta)\n",
    "    "
   ]
  },
  {
   "cell_type": "code",
   "execution_count": 340,
   "metadata": {},
   "outputs": [
    {
     "name": "stdout",
     "output_type": "stream",
     "text": [
      "hull [[45.86885089  4.87601673]\n",
      " [71.30763421 69.19251786]\n",
      " [75.48876313 10.22922501]\n",
      " [86.30269819 55.68164372]\n",
      " [15.77130201 66.27830914]]\n",
      "Points Index :  (1, 4) Edge :  [-1, 0]\n",
      "p+t*r [43.46300814 69.19251786]\n",
      "Points Index :  (1, 3) Edge :  [-1, 1]\n",
      "p+t*r [84.89195984 69.19251786]\n",
      "Points Index :  (0, 4) Edge :  [-1, 0]\n",
      "p+t*r [15.77130201 28.2007083 ]\n",
      "Points Index :  (0, 2) Edge :  [-1, 2]\n",
      "p+t*r [61.16254982  4.87601673]\n",
      "Points Index :  (3, 2) Edge :  [-1, 1]\n",
      "p+t*r [86.30269819 31.66902107]\n"
     ]
    }
   ],
   "source": [
    "# compute distance of centers, with edge intersections\n",
    "\n",
    "#rotation matrix 90 deg\n",
    "rot = np.array([[0,-1],[1,0]])\n",
    "\n",
    "\n",
    "#compute centroid\n",
    "hull = set()\n",
    "for points , voronoi_ridge in vor.ridge_dict.items():\n",
    "    if voronoi_ridge[np.argmin(voronoi_ridge)] < 0:\n",
    "        hull.add(points[0])\n",
    "        hull.add(points[1])\n",
    "\n",
    "hull = np.array([vor.points[i] for i in hull])\n",
    "centroid = np.sum(hull,axis=0)/hull.shape[0]\n",
    "\n",
    "print('hull',hull)\n",
    "\n",
    "for points_index, voronoi_ridge in vor.ridge_dict.items():\n",
    "    # find the infnite voronoi ridges\n",
    "    if voronoi_ridge[np.argmin(voronoi_ridge)] >= 0:\n",
    "        continue\n",
    "    print(\"Points Index : \",points_index,\"Edge : \", voronoi_ridge)\n",
    "    p0 = vor.vertices[voronoi_ridge[np.argmax(voronoi_ridge)]]\n",
    "    p1 = vor.points[points_index[0]]\n",
    "    p2 = vor.points[points_index[1]]\n",
    "    \n",
    "    #bisector\n",
    "    q = (p1 + p2)/2\n",
    "    # normal vector of q\n",
    "    s = (p1-p2)@rot\n",
    "    # q plus s\n",
    "    #p_pl_s = p + s\n",
    "    t1 = np.sign(np.linalg.det(np.hstack((np.array(([p1,p2,q+s])),np.ones((3,1))))))\n",
    "    t2 = np.sign(np.linalg.det(np.hstack((np.array(([p1,p2,centroid])),np.ones((3,1))))))\n",
    "    \n",
    "    # make sure the the edge is pointing outwards from the convex hull\n",
    "    if t1 == t2:\n",
    "        s = -s\n",
    "        \n",
    "    #original math proof from :\n",
    "    #https://stackoverflow.com/questions/563198/how-do-you-detect-where-two-line-segments-intersect/565282#565282\n",
    "    #\n",
    "    #take the idea of line segment intersection\n",
    "    # q+ s   p + r\n",
    "    # \\    /\n",
    "    #  \\  /\n",
    "    #   \\/\n",
    "    #   /\\\n",
    "    #  /  \\\n",
    "    # /    \\\n",
    "    # p     q\n",
    "    #\n",
    "    # p + t*r = q + u*s ; where t and u are scalars\n",
    "    # (p + t*r)xs = (q + u*s)xs\n",
    "    # pxs + t*rxs = qxs + 0\n",
    "    # t*rxs = qxs - pxs\n",
    "    # t = [(q-p)xs]/rxs\n",
    "    # if t is negaive, then we went left of p, thus did not intersect\n",
    "    # if |p + tr - p| > |p + r - p| then we have gone past our endpoint c2\n",
    "    # note, this is also t|r| > |r| -> t > 1\n",
    "    \n",
    "    #print('p+s',p+s)\n",
    "    #print('p',p)\n",
    "    #print(\"calculating t\")\n",
    "    for c1, c2 in CH_segments:\n",
    "        p = c1\n",
    "        r = c2 - c1\n",
    "\n",
    "        t = np.cross((q-p),s)/np.cross(r,s)\n",
    "        u = np.cross((q-p),r)/np.cross(r,s)\n",
    "        \n",
    "\n",
    "        # ray q intersects segment p at point p + tr (u cannot b zero, else we go backards, t must be btwn segment)\n",
    "        if 0 <= t and t <= 1 and u >= 0 and np.cross(r,s) != 0:\n",
    "            \n",
    "            #print('p = ',p, ' r = ',r,' p + r = ', p + r)\n",
    "            #print('q = ',q, ' s = ',s, ' q + s = ', q + s)\n",
    "            \n",
    "            #print('r',r)\n",
    "            #print('s',s)\n",
    "            #print('cross-product r x s: ',cross)\n",
    "            #print('q-p',q-p)\n",
    "            #print('r',r)\n",
    "            #print('cross-product (q - p) x r',np.cross((q-p),r))\n",
    "            #print('t',t)\n",
    "            print('p+t*r',p + t*r)\n",
    "            #print('u',u)\n",
    "        \n",
    "        #print(\"-----------------\")\n",
    "\n",
    "    \n"
   ]
  },
  {
   "cell_type": "code",
   "execution_count": 341,
   "metadata": {},
   "outputs": [
    {
     "data": {
      "image/png": "[encoded data removed]",
      "text/plain": [
       "<Figure size 432x288 with 1 Axes>"
      ]
     },
     "metadata": {
      "needs_background": "light"
     },
     "output_type": "display_data"
    }
   ],
   "source": [
    "fig = voronoi_plot_2d(vor)"
   ]
  },
  {
   "cell_type": "code",
   "execution_count": 321,
   "metadata": {},
   "outputs": [
    {
     "data": {
      "text/plain": [
       "array([[45.86885089,  4.87601673],\n",
       "       [71.30763421, 69.19251786],\n",
       "       [75.48876313, 10.22922501],\n",
       "       [86.30269819, 55.68164372],\n",
       "       [15.77130201, 66.27830914]])"
      ]
     },
     "execution_count": 321,
     "metadata": {},
     "output_type": "execute_result"
    }
   ],
   "source": [
    "vor.points"
   ]
  },
  {
   "cell_type": "code",
   "execution_count": 322,
   "metadata": {},
   "outputs": [
    {
     "data": {
      "text/plain": [
       "array([[45.86885089,  4.87601673],\n",
       "       [71.30763421, 69.19251786],\n",
       "       [75.48876313, 10.22922501],\n",
       "       [86.30269819, 55.68164372],\n",
       "       [15.77130201, 66.27830914]])"
      ]
     },
     "execution_count": 322,
     "metadata": {},
     "output_type": "execute_result"
    }
   ],
   "source": [
    "\n",
    "\n",
    "hull = set()\n",
    "for points , voronoi_ridge in vor.ridge_dict.items():\n",
    "    if voronoi_ridge[np.argmin(voronoi_ridge)] < 0:\n",
    "        hull.add(points[0])\n",
    "        hull.add(points[1])\n",
    "\n",
    "hull = np.array([vor.points[i] for i in hull])\n",
    "centroid = np.sum(hull,axis=0)/hull.shape[0]\n"
   ]
  },
  {
   "cell_type": "code",
   "execution_count": null,
   "metadata": {},
   "outputs": [],
   "source": []
  }
 ],
 "metadata": {
  "kernelspec": {
   "display_name": "Python 3",
   "language": "python",
   "name": "python3"
  },
  "language_info": {
   "codemirror_mode": {
    "name": "ipython",
    "version": 3
   },
   "file_extension": ".py",
   "mimetype": "text/x-python",
   "name": "python",
   "nbconvert_exporter": "python",
   "pygments_lexer": "ipython3",
   "version": "3.8.3"
  }
 },
 "nbformat": 4,
 "nbformat_minor": 4
}
