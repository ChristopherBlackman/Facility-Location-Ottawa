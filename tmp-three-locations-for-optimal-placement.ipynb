{
 "cells": [
  {
   "cell_type": "code",
   "execution_count": 1,
   "metadata": {},
   "outputs": [],
   "source": [
    "from main import VoronoiFacilitySelection \n",
    "from main import dot_extract\n",
    "import numpy as np\n",
    "from scipy.spatial import Voronoi, voronoi_plot_2d\n",
    "from sklearn.neighbors import NearestNeighbors\n",
    "\n",
    "import matplotlib.pyplot as plt\n",
    "from pprint import pprint\n"
   ]
  },
  {
   "cell_type": "code",
   "execution_count": 2,
   "metadata": {},
   "outputs": [],
   "source": [
    "v, e = dot_extract()"
   ]
  },
  {
   "cell_type": "code",
   "execution_count": 18,
   "metadata": {},
   "outputs": [],
   "source": [
    "#V = {\"1\":[0,0],\"2\":[2,0],\"3\":[0,2],\"4\":[2,2],\"5\":[1,1]}\n",
    "V = {\"1\":np.random.rand(2)*100,\"2\":np.random.rand(2)*100,\"3\":np.random.rand(2)*100,\"4\":np.random.rand(2)*100,\"5\":np.random.rand(2)*100}\n",
    "#V = {\"1\":np.random.rand(2)*100,\"2\":np.random.rand(2)*100,\"3\":np.random.rand(2)*100}\n",
    "Z = np.random.random((10,2))*1000\n",
    "model = VoronoiFacilitySelection(random_state=11,n_cells=4,ret_dia=True)\n",
    "vor = Voronoi(list(V.values()))\n",
    "vor = Voronoi(Z)\n"
   ]
  },
  {
   "cell_type": "code",
   "execution_count": 19,
   "metadata": {
    "scrolled": false
   },
   "outputs": [
    {
     "data": {
      "image/png": "[encoded data removed]",
      "text/plain": [
       "<Figure size 432x288 with 1 Axes>"
      ]
     },
     "metadata": {
      "needs_background": "light"
     },
     "output_type": "display_data"
    }
   ],
   "source": [
    "fig = voronoi_plot_2d(vor)"
   ]
  },
  {
   "cell_type": "code",
   "execution_count": 97,
   "metadata": {},
   "outputs": [
    {
     "data": {
      "text/plain": [
       "array([[62.69499973, 40.34455974],\n",
       "       [62.0778507 , 38.95164935],\n",
       "       [59.07178447, 37.47995322]])"
      ]
     },
     "execution_count": 97,
     "metadata": {},
     "output_type": "execute_result"
    }
   ],
   "source": [
    "vor.vertices"
   ]
  },
  {
   "cell_type": "code",
   "execution_count": 98,
   "metadata": {},
   "outputs": [
    {
     "data": {
      "text/plain": [
       "[[-1, 0], [-1, 2, 1], [-1, 0, 1], [2, -1, 0, 1], [-1, 2], []]"
      ]
     },
     "execution_count": 98,
     "metadata": {},
     "output_type": "execute_result"
    }
   ],
   "source": [
    "vor.regions"
   ]
  },
  {
   "cell_type": "code",
   "execution_count": 99,
   "metadata": {},
   "outputs": [
    {
     "data": {
      "text/plain": [
       "array([2, 3, 1, 0, 4])"
      ]
     },
     "execution_count": 99,
     "metadata": {},
     "output_type": "execute_result"
    }
   ],
   "source": [
    "vor.point_region"
   ]
  },
  {
   "cell_type": "code",
   "execution_count": 100,
   "metadata": {},
   "outputs": [
    {
     "data": {
      "text/plain": [
       "array([[91.04933111, 32.13835373],\n",
       "       [37.56768485, 55.83416824],\n",
       "       [60.3798885 ,  9.23827528],\n",
       "       [63.45972788, 69.85261145],\n",
       "       [52.27889369, 10.03618992]])"
      ]
     },
     "execution_count": 100,
     "metadata": {},
     "output_type": "execute_result"
    }
   ],
   "source": [
    "vor.points"
   ]
  },
  {
   "cell_type": "code",
   "execution_count": 101,
   "metadata": {},
   "outputs": [
    {
     "data": {
      "text/plain": [
       "array([[3, 0],\n",
       "       [3, 1],\n",
       "       [2, 0],\n",
       "       [2, 1],\n",
       "       [2, 4],\n",
       "       [0, 1],\n",
       "       [1, 4]], dtype=int32)"
      ]
     },
     "execution_count": 101,
     "metadata": {},
     "output_type": "execute_result"
    }
   ],
   "source": [
    "vor.ridge_points"
   ]
  },
  {
   "cell_type": "code",
   "execution_count": 102,
   "metadata": {},
   "outputs": [
    {
     "data": {
      "text/plain": [
       "[[-1, 0], [-1, 0], [-1, 1], [1, 2], [-1, 2], [0, 1], [-1, 2]]"
      ]
     },
     "execution_count": 102,
     "metadata": {},
     "output_type": "execute_result"
    }
   ],
   "source": [
    "vor.ridge_vertices"
   ]
  },
  {
   "cell_type": "code",
   "execution_count": 103,
   "metadata": {},
   "outputs": [
    {
     "data": {
      "text/plain": [
       "{(3, 0): [-1, 0],\n",
       " (3, 1): [-1, 0],\n",
       " (2, 0): [-1, 1],\n",
       " (2, 1): [1, 2],\n",
       " (2, 4): [-1, 2],\n",
       " (0, 1): [0, 1],\n",
       " (1, 4): [-1, 2]}"
      ]
     },
     "execution_count": 103,
     "metadata": {},
     "output_type": "execute_result"
    }
   ],
   "source": [
    "vor.ridge_dict"
   ]
  },
  {
   "cell_type": "code",
   "execution_count": 104,
   "metadata": {},
   "outputs": [
    {
     "data": {
      "text/plain": [
       "array([2, 3, 1, 0, 4])"
      ]
     },
     "execution_count": 104,
     "metadata": {},
     "output_type": "execute_result"
    }
   ],
   "source": [
    "vor.point_region\n"
   ]
  },
  {
   "cell_type": "code",
   "execution_count": 105,
   "metadata": {},
   "outputs": [
    {
     "data": {
      "text/plain": [
       "{'1': array([91.04933111, 32.13835373]),\n",
       " '2': array([37.56768485, 55.83416824]),\n",
       " '3': array([60.3798885 ,  9.23827528]),\n",
       " '4': array([63.45972788, 69.85261145]),\n",
       " '5': array([52.27889369, 10.03618992])}"
      ]
     },
     "execution_count": 105,
     "metadata": {},
     "output_type": "execute_result"
    }
   ],
   "source": [
    "V"
   ]
  },
  {
   "cell_type": "code",
   "execution_count": 106,
   "metadata": {},
   "outputs": [
    {
     "data": {
      "text/plain": [
       "[array([91.04933111, 32.13835373]),\n",
       " array([37.56768485, 55.83416824]),\n",
       " array([60.3798885 ,  9.23827528]),\n",
       " array([63.45972788, 69.85261145]),\n",
       " array([52.27889369, 10.03618992])]"
      ]
     },
     "execution_count": 106,
     "metadata": {},
     "output_type": "execute_result"
    }
   ],
   "source": [
    "v=list(V.values())\n",
    "v"
   ]
  },
  {
   "cell_type": "code",
   "execution_count": 107,
   "metadata": {},
   "outputs": [],
   "source": [
    "# this section will be pre-processing\n",
    "min_x = min(np.array(list(V.values()))[:,0])\n",
    "min_y = min(np.array(list(V.values()))[:,1])\n",
    "max_x = max(np.array(list(V.values()))[:,0])\n",
    "max_y = max(np.array(list(V.values()))[:,1])\n",
    "\n",
    "min_bound = [min_x,min_y]\n",
    "max_bound = [max_x,max_y]\n",
    "\n",
    "# I need to find the minimum, and maximum in the point set\n",
    "CH_points = np.array([min_bound,[max_bound[0],min_bound[1]],max_bound,[min_bound[0],max_bound[1]]])\n",
    "\n",
    "CH_segments = np.array([[CH_points[i-1],CH_points[i]] for i in range(len(CH_points))])\n"
   ]
  },
  {
   "cell_type": "code",
   "execution_count": 108,
   "metadata": {},
   "outputs": [
    {
     "name": "stdout",
     "output_type": "stream",
     "text": [
      "[-28.97148041   6.81329562]\n",
      "[ 24.51016585 -16.88251889]\n",
      "[ 1.6979622  29.71337407]\n",
      "[ -0.76472815 -29.50805171]\n",
      "[ 6.79289077 27.4437633 ]\n"
     ]
    }
   ],
   "source": [
    "# compute distances of centers, with voronoi verticies\n",
    "for i, point_region in zip(range(len(vor.points)),vor.point_region):\n",
    "    vor_v_i = vor.regions[point_region]\n",
    "    points = np.array([vor.vertices[p] for p in vor_v_i if p >= 0])\n",
    "    center = vor.points[i]\n",
    "    delta = points - center\n",
    "    delta_max = delta[np.argmax(np.apply_along_axis(np.linalg.norm,1,delta))]\n",
    "    \n",
    "    # check if delta max is bigger than any other distances found thus far for point at index i\n",
    "    print(delta_max)\n",
    "\n",
    "    "
   ]
  },
  {
   "cell_type": "code",
   "execution_count": 109,
   "metadata": {},
   "outputs": [
    {
     "name": "stdout",
     "output_type": "stream",
     "text": [
      "[[-14.71120885  -0.79791464]]\n",
      "[[  0.         -22.90007845]]\n",
      "[[27.58960323  0.        ]]\n",
      "[[ 0.         14.01844321]]\n"
     ]
    }
   ],
   "source": [
    "# compute distance of centers, with C.H, points\n",
    "\n",
    "# this section will inside the loop\n",
    "neigh = NearestNeighbors(n_neighbors=1, radius=0.0000000000001) \n",
    "neigh.fit(vor.points)\n",
    "\n",
    "Y = neigh.kneighbors(CH_points,1,return_distance=False) \n",
    "\n",
    "for center_i,CH_p in zip(Y,CH_points):\n",
    "    center = vor.points[center_i]\n",
    "    delta = CH_p-center\n",
    "    \n",
    "    #check if delta is greater than any other delta of center_i\n",
    "    print(delta)\n",
    "    "
   ]
  },
  {
   "cell_type": "code",
   "execution_count": 110,
   "metadata": {},
   "outputs": [
    {
     "name": "stdout",
     "output_type": "stream",
     "text": [
      "hull [[91.04933111 32.13835373]\n",
      " [37.56768485 55.83416824]\n",
      " [60.3798885   9.23827528]\n",
      " [63.45972788 69.85261145]\n",
      " [52.27889369 10.03618992]]\n",
      "Points Index :  (3, 0) Edge :  [-1, 0]\n",
      "p+t*r [91.04933111 61.08697387]\n",
      "Points Index :  (3, 1) Edge :  [-1, 0]\n",
      "p+t*r [46.71878084 69.85261145]\n",
      "Points Index :  (2, 0) Edge :  [-1, 1]\n",
      "p+t*r [84.26405753  9.23827528]\n",
      "Points Index :  (2, 4) Edge :  [-1, 2]\n",
      "p+t*r [56.29009544  9.23827528]\n",
      "Points Index :  (1, 4) Edge :  [-1, 2]\n",
      "p+t*r [37.56768485 30.57241468]\n"
     ]
    }
   ],
   "source": [
    "# compute distance of centers, with edge intersections\n",
    "\n",
    "#rotation matrix 90 deg\n",
    "rot = np.array([[0,-1],[1,0]])\n",
    "\n",
    "\n",
    "#compute centroid\n",
    "hull = set()\n",
    "for points , voronoi_ridge in vor.ridge_dict.items():\n",
    "    if voronoi_ridge[np.argmin(voronoi_ridge)] < 0:\n",
    "        hull.add(points[0])\n",
    "        hull.add(points[1])\n",
    "\n",
    "hull = np.array([vor.points[i] for i in hull])\n",
    "centroid = np.sum(hull,axis=0)/hull.shape[0]\n",
    "\n",
    "print('hull',hull)\n",
    "\n",
    "for points_index, voronoi_ridge in vor.ridge_dict.items():\n",
    "    # find the infnite voronoi ridges\n",
    "    if voronoi_ridge[np.argmin(voronoi_ridge)] >= 0:\n",
    "        continue\n",
    "    print(\"Points Index : \",points_index,\"Edge : \", voronoi_ridge)\n",
    "    p0 = vor.vertices[voronoi_ridge[np.argmax(voronoi_ridge)]]\n",
    "    p1 = vor.points[points_index[0]]\n",
    "    p2 = vor.points[points_index[1]]\n",
    "    \n",
    "    #bisector\n",
    "    q = (p1 + p2)/2\n",
    "    # normal vector of q\n",
    "    s = (p1-p2)@rot\n",
    "    # q plus s\n",
    "    #p_pl_s = p + s\n",
    "    t1 = np.sign(np.linalg.det(np.hstack((np.array(([p1,p2,q+s])),np.ones((3,1))))))\n",
    "    t2 = np.sign(np.linalg.det(np.hstack((np.array(([p1,p2,centroid])),np.ones((3,1))))))\n",
    "    \n",
    "    # make sure the the edge is pointing outwards from the convex hull\n",
    "    if t1 == t2:\n",
    "        s = -s\n",
    "        \n",
    "    #original math proof from :\n",
    "    #https://stackoverflow.com/questions/563198/how-do-you-detect-where-two-line-segments-intersect/565282#565282\n",
    "    #\n",
    "    #take the idea of line segment intersection\n",
    "    # q+ s   p + r\n",
    "    # \\    /\n",
    "    #  \\  /\n",
    "    #   \\/\n",
    "    #   /\\\n",
    "    #  /  \\\n",
    "    # /    \\\n",
    "    # p     q\n",
    "    #\n",
    "    # p + t*r = q + u*s ; where t and u are scalars\n",
    "    # (p + t*r)xs = (q + u*s)xs\n",
    "    # pxs + t*rxs = qxs + 0\n",
    "    # t*rxs = qxs - pxs\n",
    "    # t = [(q-p)xs]/rxs\n",
    "    # if t is negaive, then we went left of p, thus did not intersect\n",
    "    # if |p + tr - p| > |p + r - p| then we have gone past our endpoint c2\n",
    "    # note, this is also t|r| > |r| -> t > 1\n",
    "    \n",
    "    #print('p+s',p+s)\n",
    "    #print('p',p)\n",
    "    #print(\"calculating t\")\n",
    "    for c1, c2 in CH_segments:\n",
    "        p = c1\n",
    "        r = c2 - c1\n",
    "\n",
    "        t = np.cross((q-p),s)/np.cross(r,s)\n",
    "        u = np.cross((q-p),r)/np.cross(r,s)\n",
    "        \n",
    "\n",
    "        # ray q intersects segment p at point p + tr (u cannot b zero, else we go backards, t must be btwn segment)\n",
    "        if 0 <= t and t <= 1 and u >= 0 and np.cross(r,s) != 0:\n",
    "            \n",
    "            #print('p = ',p, ' r = ',r,' p + r = ', p + r)\n",
    "            #print('q = ',q, ' s = ',s, ' q + s = ', q + s)\n",
    "            \n",
    "            #print('r',r)\n",
    "            #print('s',s)\n",
    "            #print('cross-product r x s: ',cross)\n",
    "            #print('q-p',q-p)\n",
    "            #print('r',r)\n",
    "            #print('cross-product (q - p) x r',np.cross((q-p),r))\n",
    "            #print('t',t)\n",
    "            print('p+t*r',p + t*r)\n",
    "            #print('u',u)\n",
    "        \n",
    "        #print(\"-----------------\")\n",
    "\n",
    "    \n"
   ]
  },
  {
   "cell_type": "code",
   "execution_count": 111,
   "metadata": {},
   "outputs": [
    {
     "data": {
      "image/png": "[encoded data removed]",
      "text/plain": [
       "<Figure size 432x288 with 1 Axes>"
      ]
     },
     "metadata": {
      "needs_background": "light"
     },
     "output_type": "display_data"
    }
   ],
   "source": [
    "fig = voronoi_plot_2d(vor)"
   ]
  },
  {
   "cell_type": "code",
   "execution_count": 112,
   "metadata": {},
   "outputs": [
    {
     "data": {
      "text/plain": [
       "array([[62.69499973, 40.34455974],\n",
       "       [62.0778507 , 38.95164935],\n",
       "       [59.07178447, 37.47995322]])"
      ]
     },
     "execution_count": 112,
     "metadata": {},
     "output_type": "execute_result"
    }
   ],
   "source": [
    "vor.vertices"
   ]
  },
  {
   "cell_type": "code",
   "execution_count": 113,
   "metadata": {},
   "outputs": [
    {
     "data": {
      "text/plain": [
       "[[-1, 0], [-1, 2, 1], [-1, 0, 1], [2, -1, 0, 1], [-1, 2], []]"
      ]
     },
     "execution_count": 113,
     "metadata": {},
     "output_type": "execute_result"
    }
   ],
   "source": [
    "vor.regions"
   ]
  },
  {
   "cell_type": "code",
   "execution_count": 114,
   "metadata": {},
   "outputs": [
    {
     "data": {
      "text/plain": [
       "array([[91.04933111, 32.13835373],\n",
       "       [37.56768485, 55.83416824],\n",
       "       [60.3798885 ,  9.23827528],\n",
       "       [63.45972788, 69.85261145],\n",
       "       [52.27889369, 10.03618992]])"
      ]
     },
     "execution_count": 114,
     "metadata": {},
     "output_type": "execute_result"
    }
   ],
   "source": [
    "vor.points"
   ]
  },
  {
   "cell_type": "code",
   "execution_count": 115,
   "metadata": {},
   "outputs": [
    {
     "data": {
      "text/plain": [
       "array([2, 3, 1, 0, 4])"
      ]
     },
     "execution_count": 115,
     "metadata": {},
     "output_type": "execute_result"
    }
   ],
   "source": [
    "vor.point_region"
   ]
  },
  {
   "cell_type": "code",
   "execution_count": 116,
   "metadata": {},
   "outputs": [],
   "source": [
    "\n",
    "\n",
    "hull = set()\n",
    "for points , voronoi_ridge in vor.ridge_dict.items():\n",
    "    if voronoi_ridge[np.argmin(voronoi_ridge)] < 0:\n",
    "        hull.add(points[0])\n",
    "        hull.add(points[1])\n",
    "\n",
    "hull = np.array([vor.points[i] for i in hull])\n",
    "centroid = np.sum(hull,axis=0)/hull.shape[0]\n"
   ]
  },
  {
   "cell_type": "code",
   "execution_count": 150,
   "metadata": {},
   "outputs": [
    {
     "name": "stdout",
     "output_type": "stream",
     "text": [
      "{0: [3, 1], 1: [2, 0], 2: [1, 4]}\n",
      "[46.71878084 69.85261145]\n",
      "[37.56768485 30.57241468]\n",
      "[84.26405753  9.23827528]\n",
      "[46.71878084 69.85261145]\n",
      "[84.26405753  9.23827528]\n",
      "[37.56768485 30.57241468]\n",
      "[46.71878084 69.85261145]\n",
      "[84.26405753  9.23827528]\n",
      "[37.56768485 30.57241468]\n",
      "computing CH\n",
      "array([2, 1, 0], dtype=int32)\n",
      "3\n",
      "array([2, 3, 1], dtype=int32)\n",
      "3\n",
      "array([4, 2, 1, 3], dtype=int32)\n",
      "4\n",
      "array([3, 5, 4, 6], dtype=int32)\n",
      "4\n",
      "array([0, 1, 2], dtype=int32)\n",
      "3\n",
      "[<shapely.geometry.polygon.Polygon object at 0x7f77dc4b90d0>,\n",
      " <shapely.geometry.polygon.Polygon object at 0x7f77dc4b9b20>,\n",
      " <shapely.geometry.polygon.Polygon object at 0x7f77dc4b9cd0>,\n",
      " <shapely.geometry.polygon.Polygon object at 0x7f77dc528100>,\n",
      " <shapely.geometry.polygon.Polygon object at 0x7f77dc4b9af0>,\n",
      " []]\n",
      "6\n"
     ]
    }
   ],
   "source": [
    "from scipy.spatial import ConvexHull, convex_hull_plot_2d\n",
    "from shapely.geometry import Point, Polygon\n",
    "from main import voronoi_endpoint_intersection\n",
    "\n",
    "# compute distance of centers, with edge intersections\n",
    "\n",
    "#rotation matrix 90 deg\n",
    "rot = np.array([[0,-1],[1,0]])\n",
    "\n",
    "\n",
    "#compute centroid\n",
    "hull = set()\n",
    "for points , voronoi_ridge in vor.ridge_dict.items():\n",
    "    if voronoi_ridge[np.argmin(voronoi_ridge)] >= 0:\n",
    "        hull.add(points[0])\n",
    "        hull.add(points[1])\n",
    "\n",
    "hull = np.array([vor.points[i] for i in hull])\n",
    "centroid = np.sum(hull,axis=0)/hull.shape[0]\n",
    "\n",
    "# map voronoi point index to points indicies between edge \n",
    "map_vertex_points = {}\n",
    "for points_index, voronoi_ridge in vor.ridge_dict.items():\n",
    "\n",
    "    if voronoi_ridge[np.argmin(voronoi_ridge)] >= 0:\n",
    "        continue\n",
    "    p0 = vor.vertices[voronoi_ridge[np.argmax(voronoi_ridge)]]\n",
    "    map_vertex_points[voronoi_ridge[np.argmax(voronoi_ridge)]] = list(points_index)\n",
    "\n",
    "print(map_vertex_points)\n",
    "\n",
    "\n",
    "\n",
    "\n",
    "\n",
    "\n",
    "\n",
    "region = []\n",
    "\n",
    "for region_index, vor_verticies in zip(range(len(vor.regions)),vor.regions):\n",
    "    points = [vor.vertices[v].tolist() for v in vor_verticies if v >= 0]\n",
    "    if len(points) == 0:\n",
    "        region.append([])\n",
    "        continue\n",
    "    if not -1 in vor_verticies:\n",
    "        region.append(points)\n",
    "        continue\n",
    "        \n",
    "    \n",
    "\n",
    "    \n",
    "    end_points = [v for v in vor_verticies if not map_vertex_points.get(v,None) is None]\n",
    "    for end_point in end_points:\n",
    "        p1 = vor.points[map_vertex_points[end_point][0]] # points forming bisector\n",
    "        p2 = vor.points[map_vertex_points[end_point][1]] # points forming bisector\n",
    "    \n",
    "        centroid = centroid # point inside convex polygon\n",
    "        CH_segments = CH_segments # intersecting segments\n",
    "        \n",
    "        \n",
    "        \n",
    "        for edge in CH_segments:\n",
    "            i = voronoi_endpoint_intersection(p1,p2,centroid,edge)\n",
    "            if i is None:\n",
    "                continue\n",
    "            print(i)\n",
    "            if not i.tolist() in points:\n",
    "                points.append(i.tolist())\n",
    "    \n",
    "    \n",
    "    Y = neigh.kneighbors(CH_points,1,return_distance=False)\n",
    "    \n",
    "    for point_index,point_i in zip(range(len(Y)),Y):\n",
    "        if region_index == vor.point_region[point_i[0]]:\n",
    "            points.append(vor.points[point_i[0]].tolist())\n",
    "    \n",
    "    region.append(points)\n",
    "    \n",
    "    \n",
    "\n",
    "    \n",
    "# convert to convex hull, and find a ordering or verticies to form polygon\n",
    "#----------------\n",
    "polygons = list()\n",
    "\n",
    "print(\"computing CH\")\n",
    "\n",
    "for s in region:\n",
    "    if len(s) == 0:\n",
    "        polygons.append(s)\n",
    "        continue\n",
    "    h = ConvexHull(s)\n",
    "    pprint(h.vertices)\n",
    "    print(len(h.vertices))\n",
    "    z = list()\n",
    "    z = Polygon([h.points[h.vertices[i-1]] for i in range(h.vertices.shape[0]+1)])\n",
    "    polygons.append(z)\n",
    "    \n",
    "pprint(polygons)\n",
    "pprint(len(polygons))\n"
   ]
  },
  {
   "cell_type": "code",
   "execution_count": 151,
   "metadata": {},
   "outputs": [
    {
     "data": {
      "image/svg+xml": [
       "<svg xmlns=\"http://www.w3.org/2000/svg\" xmlns:xlink=\"http://www.w3.org/1999/xlink\" width=\"100.0\" height=\"100.0\" viewBox=\"45.53845877332178 39.164237667357085 19.101591178205837 31.86869584627142\" preserveAspectRatio=\"xMinYMin meet\"><g transform=\"matrix(1,0,0,-1,0,110.19717118098559)\"><path fill-rule=\"evenodd\" fill=\"#66cc99\" stroke=\"#555555\" stroke-width=\"0.6373739169254284\" opacity=\"0.6\" d=\"M 62.69499973242412,40.344559735737505 L 63.459727883147195,69.85261144524809 L 46.7187808417022,69.85261144524809 L 62.69499973242412,40.344559735737505 z\" /></g></svg>"
      ],
      "text/plain": [
       "<shapely.geometry.polygon.Polygon at 0x7f77dc4e8490>"
      ]
     },
     "execution_count": 151,
     "metadata": {},
     "output_type": "execute_result"
    }
   ],
   "source": [
    "Polygon(polygons[0])"
   ]
  },
  {
   "cell_type": "code",
   "execution_count": 152,
   "metadata": {},
   "outputs": [
    {
     "data": {
      "image/svg+xml": [
       "<svg xmlns=\"http://www.w3.org/2000/svg\" xmlns:xlink=\"http://www.w3.org/1999/xlink\" width=\"100.0\" height=\"100.0\" viewBox=\"35.69982994079684 7.3704203721886055 50.43208250009642 33.449083883669935\" preserveAspectRatio=\"xMinYMin meet\"><g transform=\"matrix(1,0,0,-1,0,48.189924628047144)\"><path fill-rule=\"evenodd\" fill=\"#66cc99\" stroke=\"#555555\" stroke-width=\"1.0086416500019284\" opacity=\"0.6\" d=\"M 62.077850701499614,38.95164934844756 L 37.56768484820782,30.57241467716957 L 84.26405753348229,9.238275279599584 L 62.077850701499614,38.95164934844756 z\" /></g></svg>"
      ],
      "text/plain": [
       "<shapely.geometry.polygon.Polygon at 0x7f77dc4e88e0>"
      ]
     },
     "execution_count": 152,
     "metadata": {},
     "output_type": "execute_result"
    }
   ],
   "source": [
    "Polygon(polygons[1])"
   ]
  },
  {
   "cell_type": "code",
   "execution_count": 153,
   "metadata": {},
   "outputs": [
    {
     "data": {
      "image/svg+xml": [
       "<svg xmlns=\"http://www.w3.org/2000/svg\" xmlns:xlink=\"http://www.w3.org/1999/xlink\" width=\"100.0\" height=\"100.0\" viewBox=\"44.294207395076256 6.813701832973644 49.17969716096272 65.46348305890038\" preserveAspectRatio=\"xMinYMin meet\"><g transform=\"matrix(1,0,0,-1,0,79.09088672484768)\"><path fill-rule=\"evenodd\" fill=\"#66cc99\" stroke=\"#555555\" stroke-width=\"1.3092696611780077\" opacity=\"0.6\" d=\"M 84.26405753348229,9.238275279599584 L 91.04933110941303,32.13835373055088 L 46.7187808417022,69.85261144524809 L 62.077850701499614,38.95164934844756 L 84.26405753348229,9.238275279599584 z\" /></g></svg>"
      ],
      "text/plain": [
       "<shapely.geometry.polygon.Polygon at 0x7f77dc4e8250>"
      ]
     },
     "execution_count": 153,
     "metadata": {},
     "output_type": "execute_result"
    }
   ],
   "source": [
    "Polygon(polygons[2])"
   ]
  },
  {
   "cell_type": "code",
   "execution_count": 154,
   "metadata": {},
   "outputs": [
    {
     "data": {
      "image/svg+xml": [
       "<svg xmlns=\"http://www.w3.org/2000/svg\" xmlns:xlink=\"http://www.w3.org/1999/xlink\" width=\"100.0\" height=\"100.0\" viewBox=\"35.143111401581876 6.813701832973644 51.54551957852635 65.46348305890038\" preserveAspectRatio=\"xMinYMin meet\"><g transform=\"matrix(1,0,0,-1,0,79.09088672484768)\"><path fill-rule=\"evenodd\" fill=\"#66cc99\" stroke=\"#555555\" stroke-width=\"1.3092696611780077\" opacity=\"0.6\" d=\"M 37.56768484820782,55.83416823773331 L 37.56768484820782,30.57241467716957 L 84.26405753348229,9.238275279599584 L 46.7187808417022,69.85261144524809 L 37.56768484820782,55.83416823773331 z\" /></g></svg>"
      ],
      "text/plain": [
       "<shapely.geometry.polygon.Polygon at 0x7f77dc4e8d00>"
      ]
     },
     "execution_count": 154,
     "metadata": {},
     "output_type": "execute_result"
    }
   ],
   "source": [
    "Polygon(polygons[3])"
   ]
  },
  {
   "cell_type": "code",
   "execution_count": 155,
   "metadata": {},
   "outputs": [
    {
     "data": {
      "image/svg+xml": [
       "<svg xmlns=\"http://www.w3.org/2000/svg\" xmlns:xlink=\"http://www.w3.org/1999/xlink\" width=\"100.0\" height=\"100.0\" viewBox=\"36.46993431613493 8.938439388979994 23.69960068246882 29.639264365968018\" preserveAspectRatio=\"xMinYMin meet\"><g transform=\"matrix(1,0,0,-1,0,47.516143143928005)\"><path fill-rule=\"evenodd\" fill=\"#66cc99\" stroke=\"#555555\" stroke-width=\"0.5927852873193603\" opacity=\"0.6\" d=\"M 52.278893694557425,10.036189921052884 L 59.071784466530865,37.479953222875125 L 37.56768484820782,30.57241467716957 L 52.278893694557425,10.036189921052884 z\" /></g></svg>"
      ],
      "text/plain": [
       "<shapely.geometry.polygon.Polygon at 0x7f77dc4e84f0>"
      ]
     },
     "execution_count": 155,
     "metadata": {},
     "output_type": "execute_result"
    }
   ],
   "source": [
    "Polygon(polygons[4])"
   ]
  },
  {
   "cell_type": "code",
   "execution_count": 125,
   "metadata": {},
   "outputs": [
    {
     "data": {
      "image/png": "[encoded data removed]",
      "text/plain": [
       "<Figure size 432x288 with 1 Axes>"
      ]
     },
     "metadata": {
      "needs_background": "light"
     },
     "output_type": "display_data"
    }
   ],
   "source": [
    "fig = voronoi_plot_2d(vor)"
   ]
  },
  {
   "cell_type": "code",
   "execution_count": 29,
   "metadata": {},
   "outputs": [
    {
     "name": "stdout",
     "output_type": "stream",
     "text": [
      "Points Index :  (2, 3) Edge :  [-1, 2]\n",
      "p+t*r [1. 2.]\n",
      "Points Index :  (2, 0) Edge :  [-1, 0]\n",
      "p+t*r [0. 1.]\n",
      "Points Index :  (0, 1) Edge :  [-1, 1]\n",
      "p+t*r [1. 0.]\n",
      "Points Index :  (1, 3) Edge :  [-1, 3]\n",
      "p+t*r [2. 1.]\n"
     ]
    },
    {
     "name": "stderr",
     "output_type": "stream",
     "text": [
      "<ipython-input-29-8d7d9180ac2b>:50: RuntimeWarning: divide by zero encountered in true_divide\n",
      "  t = np.cross((q-p),s)/np.cross(r,s)\n",
      "<ipython-input-29-8d7d9180ac2b>:51: RuntimeWarning: divide by zero encountered in true_divide\n",
      "  u = np.cross((q-p),r)/np.cross(r,s)\n"
     ]
    }
   ],
   "source": [
    "for points_index, voronoi_ridge in vor.ridge_dict.items():\n",
    "    # find the infnite voronoi ridges\n",
    "    if voronoi_ridge[np.argmin(voronoi_ridge)] >= 0:\n",
    "        continue\n",
    "    print(\"Points Index : \",points_index,\"Edge : \", voronoi_ridge)\n",
    "    p0 = vor.vertices[voronoi_ridge[np.argmax(voronoi_ridge)]]\n",
    "    p1 = vor.points[points_index[0]]\n",
    "    p2 = vor.points[points_index[1]]\n",
    "    \n",
    "    #bisector\n",
    "    q = (p1 + p2)/2\n",
    "    # normal vector of q\n",
    "    s = (p1-p2)@rot\n",
    "    # q plus s\n",
    "    #p_pl_s = p + s\n",
    "    t1 = np.sign(np.linalg.det(np.hstack((np.array(([p1,p2,q+s])),np.ones((3,1))))))\n",
    "    t2 = np.sign(np.linalg.det(np.hstack((np.array(([p1,p2,centroid])),np.ones((3,1))))))\n",
    "    \n",
    "    # make sure the the edge is pointing outwards from the convex hull\n",
    "    if t1 == t2:\n",
    "        s = -s\n",
    "        \n",
    "    #original math proof from :\n",
    "    #https://stackoverflow.com/questions/563198/how-do-you-detect-where-two-line-segments-intersect/565282#565282\n",
    "    #\n",
    "    #take the idea of line segment intersection\n",
    "    # q+ s   p + r\n",
    "    # \\    /\n",
    "    #  \\  /\n",
    "    #   \\/\n",
    "    #   /\\\n",
    "    #  /  \\\n",
    "    # /    \\\n",
    "    # p     q\n",
    "    #\n",
    "    # p + t*r = q + u*s ; where t and u are scalars\n",
    "    # (p + t*r)xs = (q + u*s)xs\n",
    "    # pxs + t*rxs = qxs + 0\n",
    "    # t*rxs = qxs - pxs\n",
    "    # t = [(q-p)xs]/rxs\n",
    "    # if t is negaive, then we went left of p, thus did not intersect\n",
    "    # if |p + tr - p| > |p + r - p| then we have gone past our endpoint c2\n",
    "    # note, this is also t|r| > |r| -> t > 1\n",
    "    \n",
    "\n",
    "    for c1, c2 in CH_segments:\n",
    "        p = c1\n",
    "        r = c2 - c1\n",
    "\n",
    "        t = np.cross((q-p),s)/np.cross(r,s)\n",
    "        u = np.cross((q-p),r)/np.cross(r,s)\n",
    "        \n",
    "\n",
    "        # ray q intersects segment p at point p + tr (u cannot b zero, else we go backards, t must be btwn segment)\n",
    "        if 0 <= t and t <= 1 and u >= 0 and np.cross(r,s) != 0:\n",
    "\n",
    "            print('p+t*r',p + t*r)\n"
   ]
  },
  {
   "cell_type": "code",
   "execution_count": 123,
   "metadata": {},
   "outputs": [
    {
     "name": "stdout",
     "output_type": "stream",
     "text": [
      "[[[62.69499973242412, 40.344559735737505],\n",
      "  [46.7187808417022, 69.85261144524809],\n",
      "  [63.459727883147195, 69.85261144524809]],\n",
      " [[59.071784466530865, 37.479953222875125],\n",
      "  [62.077850701499614, 38.95164934844756],\n",
      "  [37.56768484820782, 30.57241467716957],\n",
      "  [84.26405753348229, 9.238275279599584]],\n",
      " [[62.69499973242412, 40.344559735737505],\n",
      "  [62.077850701499614, 38.95164934844756],\n",
      "  [46.7187808417022, 69.85261144524809],\n",
      "  [84.26405753348229, 9.238275279599584],\n",
      "  [91.04933110941303, 32.13835373055088]],\n",
      " [[59.071784466530865, 37.479953222875125],\n",
      "  [62.69499973242412, 40.344559735737505],\n",
      "  [62.077850701499614, 38.95164934844756],\n",
      "  [37.56768484820782, 30.57241467716957],\n",
      "  [46.7187808417022, 69.85261144524809],\n",
      "  [84.26405753348229, 9.238275279599584],\n",
      "  [37.56768484820782, 55.83416823773331]],\n",
      " [[59.071784466530865, 37.479953222875125],\n",
      "  [37.56768484820782, 30.57241467716957],\n",
      "  [52.278893694557425, 10.036189921052884]],\n",
      " []]\n"
     ]
    },
    {
     "data": {
      "image/png": "[encoded data removed]",
      "text/plain": [
       "<Figure size 432x288 with 1 Axes>"
      ]
     },
     "metadata": {
      "needs_background": "light"
     },
     "output_type": "display_data"
    }
   ],
   "source": [
    "j = 1\n",
    "xval = [i[0] for i in region[j]]\n",
    "yval = [i[1] for i in region[j]]\n",
    "plt.plot(xval,yval,'o')\n",
    "plt.plot([0,0,2,2],[0,2,0,2],'x')\n",
    "\n",
    "pprint(region)"
   ]
  },
  {
   "cell_type": "code",
   "execution_count": null,
   "metadata": {},
   "outputs": [],
   "source": []
  }
 ],
 "metadata": {
  "kernelspec": {
   "display_name": "Python 3",
   "language": "python",
   "name": "python3"
  },
  "language_info": {
   "codemirror_mode": {
    "name": "ipython",
    "version": 3
   },
   "file_extension": ".py",
   "mimetype": "text/x-python",
   "name": "python",
   "nbconvert_exporter": "python",
   "pygments_lexer": "ipython3",
   "version": "3.8.3"
  }
 },
 "nbformat": 4,
 "nbformat_minor": 4
}
